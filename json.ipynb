{
  "nbformat": 4,
  "nbformat_minor": 0,
  "metadata": {
    "colab": {
      "provenance": [],
      "authorship_tag": "ABX9TyMswwkDzvYemPOOHs5wsgWU",
      "include_colab_link": true
    },
    "kernelspec": {
      "name": "python3",
      "display_name": "Python 3"
    },
    "language_info": {
      "name": "python"
    }
  },
  "cells": [
    {
      "cell_type": "markdown",
      "metadata": {
        "id": "view-in-github",
        "colab_type": "text"
      },
      "source": [
        "<a href=\"https://colab.research.google.com/github/1234567890qqqqqq/bsc_dpdm22/blob/main/json.ipynb\" target=\"_parent\"><img src=\"https://colab.research.google.com/assets/colab-badge.svg\" alt=\"Open In Colab\"/></a>"
      ]
    },
    {
      "cell_type": "code",
      "execution_count": 4,
      "metadata": {
        "colab": {
          "base_uri": "https://localhost:8080/"
        },
        "id": "AL-70rIyntv4",
        "outputId": "54f86afc-e058-4255-b08a-50650152b4c3"
      },
      "outputs": [
        {
          "output_type": "stream",
          "name": "stdout",
          "text": [
            "Drive already mounted at /content/drive; to attempt to forcibly remount, call drive.mount(\"/content/drive\", force_remount=True).\n"
          ]
        }
      ],
      "source": [
        "import pandas as pd  # ใช้จัดการข้อมูลต่าง ๆ ที่เป็นตาราง พวกexcel ,CSV\n",
        "from google.colab import drive # เชื่อม google drive กับ colab ของเรา นี้เป็นคำสั่งเชื่อม |accout colab กับ Drive ควรเป็น accout เดียวกัน|\n",
        "drive.mount('/content/drive')\n",
        "import os # การจัดเก็บเกี่ยวกับไฟล์ต่าง ๆ มันอยู่ที่โฟลเดอร์ไหน จะ list โฟล์เดอร์ออกมา\n"
      ]
    },
    {
      "cell_type": "code",
      "source": [
        "import json\n",
        "import runpy "
      ],
      "metadata": {
        "id": "YvkARsWUuKU6"
      },
      "execution_count": 5,
      "outputs": []
    },
    {
      "cell_type": "code",
      "source": [],
      "metadata": {
        "id": "LaN4JFEJuyy3"
      },
      "execution_count": null,
      "outputs": []
    }
  ]
}